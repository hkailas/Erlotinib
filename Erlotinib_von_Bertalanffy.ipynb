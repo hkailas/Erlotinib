{
 "cells": [
  {
   "cell_type": "markdown",
   "metadata": {},
   "source": [
    "##### imports"
   ]
  },
  {
   "cell_type": "code",
   "execution_count": 2,
   "metadata": {},
   "outputs": [],
   "source": [
    "import numpy as np\n",
    "from scipy.integrate import odeint\n",
    "from scipy.optimize import minimize\n",
    "from scipy.optimize import differential_evolution   \n",
    "import matplotlib.pylab as plt\n",
    "from matplotlib.pyplot import savefig\n",
    "from matplotlib.lines import Line2D\n",
    "from scipy.integrate import solve_ivp\n",
    "import pandas as pd\n",
    "import math \n",
    "from datetime import date\n",
    "from scipy.integrate import solve_ivp\n",
    "import sys\n",
    "import os\n",
    "import copy "
   ]
  },
  {
   "cell_type": "markdown",
   "metadata": {},
   "source": [
    "##### data "
   ]
  },
  {
   "cell_type": "code",
   "execution_count": 3,
   "metadata": {},
   "outputs": [],
   "source": [
    "# Reading data\n",
    "df = pd.read_csv(\"Tumor_lengths.csv\")\n",
    "df = df.loc[~df['ID'].isin(['A1001','A1003', 'A1015', 'E1034'])] # A1001,A1002,A1015 and E1034 have 4 or fewer data points\n",
    "df = df[~((df['ID'] == 'A1009') & (df['sum_tumor_lengths'] == 10))] \n",
    "#remove the last point (10mm)as it is a single lymph node 5 days after previous scan -add to previous instead)\n",
    "# Add 10 to the value at row 68 and column 1 as dates should be combined\n",
    "df.iloc[68, 1] = df.iloc[68, 1] + 10\n",
    "df.iloc[68,2] = df.iloc[68,2] + 167 \n",
    "\n",
    "\n",
    "df_anyue = pd.read_excel(\"Individual parameters_START_TKI patients_AYin.xlsx\")\n",
    "df_anyue = df_anyue[[\"PID\",\"PD_Kg(/day)\",\"PD_Kd(/day)\",\"PD_Km(/day)\"]]\n",
    "df_anyue = df_anyue.rename(columns={\"PID\": \"ID\", \"PD_Kg(/day)\": \"kg\", \"PD_Kd(/day)\": \"kd\", \"PD_Km(/day)\": \"km\"})\n",
    "df_anyue = df_anyue.loc[~df_anyue['ID'].isin(['A1001','A1003', 'A1015', 'E1034'])] # A1001,A1003,A1015 and E1034 have 4 or fewer data points\n",
    "cols = df_anyue.columns.tolist()\n",
    "cols[2],cols[3]=cols[3],cols[2] # swap kd and km so anyue's columns match ours\n",
    "df_anyue = df_anyue[cols]"
   ]
  },
  {
   "cell_type": "markdown",
   "metadata": {},
   "source": [
    "##### functions "
   ]
  },
  {
   "cell_type": "code",
   "execution_count": null,
   "metadata": {},
   "outputs": [],
   "source": [
    "# von Bertalanffy population model\n",
    "def system_ode_gompertizian(days,populations, params):\n",
    "    Spop = populations[0]\n",
    "    Rpop = populations[1]\n",
    "    r = params[0] #growth rate\n",
    "    kmax = params[1] #carrying capacity\n",
    "    lam = params[2] #sensitivity to medication\n",
    "    m=1\n",
    "    epsilon = 1e-9\n",
    "    log_arg = kmax/(Spop + Rpop + epsilon) # stop division by 0\n",
    "\n",
    "    if log_arg <= 0:\n",
    "        return [1e30, 1e30] # return large error if log is 0 or negative\n",
    "\n",
    "    dSpop_dt = r *np.log(kmax/(Spop+Rpop + epsilon)) * (1-lam*m)*Spop \n",
    "    dRpop_dt = r * np.log(kmax/(Spop+Rpop + epsilon))*Rpop\n",
    "    return [dSpop_dt, dRpop_dt]\n",
    "\n",
    "# Gompertizian cost function\n",
    "def cost_func_gompertizian(params, days, data):\n",
    "    initial_populations = params[3:]\n",
    "    tspan = [days[0], days[-1]]\n",
    "    epsilon = 1e-9\n",
    "    \n",
    "    pred_data = solve_ivp(system_ode_gompertizian, tspan, initial_populations, \n",
    "                             t_eval = np.ravel(days),  args = tuple([params[:3]]))\n",
    "    \n",
    "    if pred_data.y.shape[1] == np.ravel(days).shape[0]:\n",
    "        spop = pred_data.y[0]\n",
    "        rpop = pred_data.y[1]\n",
    "        sum_pops = spop + rpop\n",
    "        sumsq_error = np.sum((sum_pops-data)**2)\n",
    "        msq_error = sumsq_error/len(data)\n",
    "        rmse = np.sqrt(msq_error)\n",
    "    else: \n",
    "        msq_error = 1e30\n",
    "        rmse = 1e30\n",
    "\n",
    "    return msq_error\n"
   ]
  }
 ],
 "metadata": {
  "kernelspec": {
   "display_name": "base",
   "language": "python",
   "name": "python3"
  },
  "language_info": {
   "codemirror_mode": {
    "name": "ipython",
    "version": 3
   },
   "file_extension": ".py",
   "mimetype": "text/x-python",
   "name": "python",
   "nbconvert_exporter": "python",
   "pygments_lexer": "ipython3",
   "version": "3.11.5"
  }
 },
 "nbformat": 4,
 "nbformat_minor": 2
}
