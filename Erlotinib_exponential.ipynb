{
 "cells": [
  {
   "cell_type": "markdown",
   "metadata": {},
   "source": [
    "##### Exponential "
   ]
  },
  {
   "cell_type": "code",
   "execution_count": 1,
   "metadata": {},
   "outputs": [],
   "source": [
    "import numpy as np\n",
    "from scipy.integrate import odeint\n",
    "from scipy.optimize import minimize\n",
    "from scipy.optimize import differential_evolution   \n",
    "import matplotlib.pylab as plt\n",
    "from matplotlib.pyplot import savefig\n",
    "from matplotlib.lines import Line2D\n",
    "from scipy.integrate import solve_ivp\n",
    "import pandas as pd\n",
    "import math \n",
    "from datetime import date\n",
    "from scipy.integrate import solve_ivp\n",
    "import sys\n",
    "import os\n",
    "import copy \n",
    "#!pip install lifelines\n",
    "import seaborn as sns\n",
    "import statistics\n",
    "from lifelines import KaplanMeierFitter, CoxPHFitter\n",
    "from lifelines.statistics import logrank_test\n",
    "from scipy import stats"
   ]
  },
  {
   "cell_type": "code",
   "execution_count": 2,
   "metadata": {},
   "outputs": [],
   "source": [
    "# Reading data\n",
    "df = pd.read_csv(\"Tumor_lengths.csv\")\n",
    "df = df.loc[~df['ID'].isin(['A1001','A1003', 'A1015', 'E1034'])] # remove patients with too few data points\n",
    "df_anyue = pd.read_excel(\"Individual parameters_START_TKI patients_AYin.xlsx\")\n",
    "df_anyue = df_anyue[[\"PID\",\"PD_Kg(/day)\",\"PD_Kd(/day)\",\"PD_Km(/day)\"]]\n",
    "df_anyue = df_anyue.rename(columns={\"PID\": \"ID\", \"PD_Kg(/day)\": \"kg\", \"PD_Kd(/day)\": \"kd\", \"PD_Km(/day)\": \"km\"})\n",
    "df_anyue = df_anyue.loc[~df_anyue['ID'].isin(['A1001','A1003', 'A1015', 'E1034'])] # remove patients with too few data points\n",
    "cols = df_anyue.columns.tolist()\n",
    "cols[2],cols[3]=cols[3],cols[2] # swap kd and km so anyue's columns match ours\n",
    "df_anyue = df_anyue[cols]"
   ]
  },
  {
   "cell_type": "code",
   "execution_count": 3,
   "metadata": {},
   "outputs": [],
   "source": [
    "### population model\n",
    "def system_ode_rk45(time, populations, params):\n",
    "    Spop = populations[0]\n",
    "    Rpop = populations[1]\n",
    "    kg = params[0] #growth rate\n",
    "    km = params[1] #mutation rate\n",
    "    kd = params[2] #death rate\n",
    "\n",
    "    dSpop_dt = Spop * (kg - km - kd)\n",
    "    dRpop_dt = Rpop * kg + Spop * km\n",
    "    return [dSpop_dt, dRpop_dt]\n",
    "\n",
    "# Cost function\n",
    "def cost_func_rk45(params, time, data):\n",
    "    #initial_populations = params[3:]\n",
    "    initial_populations = [params[3], data[0]-params[3]]\n",
    "\n",
    "    tspan = [days[0], days[-1]]\n",
    "    \n",
    "    pred_data_rk = solve_ivp(system_ode_rk45, tspan, initial_populations, \n",
    "                             t_eval = np.ravel(days),  args = tuple([params[:3]]))\n",
    "    \n",
    "    if pred_data_rk.y.shape[1] == np.ravel(days).shape[0]:\n",
    "        spop = pred_data_rk.y[0]\n",
    "        rpop = pred_data_rk.y[1]\n",
    "        sum_pops = spop + rpop\n",
    "        sumsq_error = np.sum((sum_pops - data)**2)\n",
    "        msq_error = sumsq_error/len(data)\n",
    "        rmse = np.sqrt(msq_error)\n",
    "    else: \n",
    "        msq_error = 1e30\n",
    "        rmse = 1e30\n",
    "\n",
    "    return msq_error"
   ]
  },
  {
   "cell_type": "markdown",
   "metadata": {},
   "source": [
    "##### fitting exponential with DE"
   ]
  },
  {
   "cell_type": "code",
   "execution_count": 5,
   "metadata": {},
   "outputs": [
    {
     "name": "stdout",
     "output_type": "stream",
     "text": [
      "Working on patient: A1002  Number of data points: 16\n"
     ]
    }
   ],
   "source": [
    "unique_IDs = df.ID.unique()\n",
    "master_dictionary = {} # dictionary to store the optimized parameters for each patient \n",
    "\n",
    "# Find optimal parameters for each patient\n",
    "for id in unique_IDs:\n",
    "\n",
    "    days = df.days[df.ID == id].tolist()\n",
    "    data = df.Sum_tumor_volume[df.ID == id].tolist()\n",
    "    max_value = max(data[0], data[-1])\n",
    "\n",
    "    print(\"Working on patient:\", id, \" Number of data points:\", len(days))\n",
    "    bounds = [(1e-3, 4e-2), (1.1*max_value, 2*max_value), (1e-3, 5e-2),(0.95*data[0], data[0]-1e-3)] # r, km, kd, spop0, \n",
    "\n",
    "\n",
    "    # Use differential_evolution to perform a random search\n",
    "    opt_result = differential_evolution(cost_func_rk45, bounds, args=(days, data))\n",
    "    # store the optimal parameters and the cost function value (last entry in list)\n",
    "    master_dictionary[id] = opt_result.x.tolist() + [opt_result.fun]"
   ]
  },
  {
   "cell_type": "code",
   "execution_count": null,
   "metadata": {},
   "outputs": [
    {
     "name": "stdout",
     "output_type": "stream",
     "text": [
      "Working on patient: A1002  Number of data points: 16\n"
     ]
    },
    {
     "ename": "TypeError",
     "evalue": "'float' object is not iterable",
     "output_type": "error",
     "traceback": [
      "\u001b[1;31m---------------------------------------------------------------------------\u001b[0m",
      "\u001b[1;31mTypeError\u001b[0m                                 Traceback (most recent call last)",
      "Cell \u001b[1;32mIn[16], line 16\u001b[0m\n\u001b[0;32m     14\u001b[0m \u001b[38;5;66;03m#bounds = [(1e-3, 1e-1), (1e-3,5e-2), (1e-3,5e-2), (0.9*data[0], data[0]), (1e-3, 0.1*data[0])]\u001b[39;00m\n\u001b[0;32m     15\u001b[0m init_params \u001b[38;5;241m=\u001b[39m [\u001b[38;5;241m2e-3\u001b[39m, \u001b[38;5;241m2e-3\u001b[39m, \u001b[38;5;241m1e-2\u001b[39m, data[\u001b[38;5;241m0\u001b[39m]\u001b[38;5;241m-\u001b[39m\u001b[38;5;241m1e3\u001b[39m] \u001b[38;5;66;03m# kg, km, kd, Spop_0, Rpop_0\u001b[39;00m\n\u001b[1;32m---> 16\u001b[0m opt_result \u001b[38;5;241m=\u001b[39m \u001b[43mminimize\u001b[49m\u001b[43m(\u001b[49m\u001b[43mcost_func_rk45\u001b[49m\u001b[43m,\u001b[49m\u001b[43m \u001b[49m\u001b[43minit_params\u001b[49m\u001b[43m,\u001b[49m\u001b[43m \u001b[49m\u001b[43margs\u001b[49m\u001b[38;5;241;43m=\u001b[39;49m\u001b[43m(\u001b[49m\u001b[43mdays\u001b[49m\u001b[43m,\u001b[49m\u001b[43m \u001b[49m\u001b[43mdata\u001b[49m\u001b[43m)\u001b[49m\u001b[43m,\u001b[49m\u001b[43m \u001b[49m\u001b[43mbounds\u001b[49m\u001b[43m \u001b[49m\u001b[38;5;241;43m=\u001b[39;49m\u001b[43m \u001b[49m\u001b[43mbounds\u001b[49m\u001b[43m,\u001b[49m\u001b[43m \u001b[49m\u001b[43mmethod\u001b[49m\u001b[38;5;241;43m=\u001b[39;49m\u001b[38;5;124;43m\"\u001b[39;49m\u001b[38;5;124;43mnelder-mead\u001b[39;49m\u001b[38;5;124;43m\"\u001b[39;49m\u001b[43m)\u001b[49m\n\u001b[0;32m     17\u001b[0m master_dictionary[\u001b[38;5;28mid\u001b[39m] \u001b[38;5;241m=\u001b[39m opt_result\u001b[38;5;241m.\u001b[39mx\u001b[38;5;241m.\u001b[39mtolist() \u001b[38;5;241m+\u001b[39m [opt_result\u001b[38;5;241m.\u001b[39mfun] \n",
      "File \u001b[1;32m~\\AppData\\Roaming\\Python\\Python311\\site-packages\\scipy\\optimize\\_minimize.py:642\u001b[0m, in \u001b[0;36mminimize\u001b[1;34m(fun, x0, args, method, jac, hess, hessp, bounds, constraints, tol, callback, options)\u001b[0m\n\u001b[0;32m    639\u001b[0m remove_vars \u001b[38;5;241m=\u001b[39m \u001b[38;5;28;01mFalse\u001b[39;00m\n\u001b[0;32m    640\u001b[0m \u001b[38;5;28;01mif\u001b[39;00m bounds \u001b[38;5;129;01mis\u001b[39;00m \u001b[38;5;129;01mnot\u001b[39;00m \u001b[38;5;28;01mNone\u001b[39;00m:\n\u001b[0;32m    641\u001b[0m     \u001b[38;5;66;03m# convert to new-style bounds so we only have to consider one case\u001b[39;00m\n\u001b[1;32m--> 642\u001b[0m     bounds \u001b[38;5;241m=\u001b[39m \u001b[43mstandardize_bounds\u001b[49m\u001b[43m(\u001b[49m\u001b[43mbounds\u001b[49m\u001b[43m,\u001b[49m\u001b[43m \u001b[49m\u001b[43mx0\u001b[49m\u001b[43m,\u001b[49m\u001b[43m \u001b[49m\u001b[38;5;124;43m'\u001b[39;49m\u001b[38;5;124;43mnew\u001b[39;49m\u001b[38;5;124;43m'\u001b[39;49m\u001b[43m)\u001b[49m\n\u001b[0;32m    643\u001b[0m     bounds \u001b[38;5;241m=\u001b[39m _validate_bounds(bounds, x0, meth)\n\u001b[0;32m    645\u001b[0m     \u001b[38;5;28;01mif\u001b[39;00m meth \u001b[38;5;129;01min\u001b[39;00m {\u001b[38;5;124m\"\u001b[39m\u001b[38;5;124mtnc\u001b[39m\u001b[38;5;124m\"\u001b[39m, \u001b[38;5;124m\"\u001b[39m\u001b[38;5;124mslsqp\u001b[39m\u001b[38;5;124m\"\u001b[39m, \u001b[38;5;124m\"\u001b[39m\u001b[38;5;124ml-bfgs-b\u001b[39m\u001b[38;5;124m\"\u001b[39m}:\n\u001b[0;32m    646\u001b[0m         \u001b[38;5;66;03m# These methods can't take the finite-difference derivatives they\u001b[39;00m\n\u001b[0;32m    647\u001b[0m         \u001b[38;5;66;03m# need when a variable is fixed by the bounds. To avoid this issue,\u001b[39;00m\n\u001b[1;32m   (...)\u001b[0m\n\u001b[0;32m    652\u001b[0m \n\u001b[0;32m    653\u001b[0m         \u001b[38;5;66;03m# determine whether any variables are fixed\u001b[39;00m\n",
      "File \u001b[1;32m~\\AppData\\Roaming\\Python\\Python311\\site-packages\\scipy\\optimize\\_minimize.py:1011\u001b[0m, in \u001b[0;36mstandardize_bounds\u001b[1;34m(bounds, x0, meth)\u001b[0m\n\u001b[0;32m   1009\u001b[0m \u001b[38;5;28;01mif\u001b[39;00m meth \u001b[38;5;129;01min\u001b[39;00m {\u001b[38;5;124m'\u001b[39m\u001b[38;5;124mtrust-constr\u001b[39m\u001b[38;5;124m'\u001b[39m, \u001b[38;5;124m'\u001b[39m\u001b[38;5;124mpowell\u001b[39m\u001b[38;5;124m'\u001b[39m, \u001b[38;5;124m'\u001b[39m\u001b[38;5;124mnelder-mead\u001b[39m\u001b[38;5;124m'\u001b[39m, \u001b[38;5;124m'\u001b[39m\u001b[38;5;124mcobyla\u001b[39m\u001b[38;5;124m'\u001b[39m, \u001b[38;5;124m'\u001b[39m\u001b[38;5;124mnew\u001b[39m\u001b[38;5;124m'\u001b[39m}:\n\u001b[0;32m   1010\u001b[0m     \u001b[38;5;28;01mif\u001b[39;00m \u001b[38;5;129;01mnot\u001b[39;00m \u001b[38;5;28misinstance\u001b[39m(bounds, Bounds):\n\u001b[1;32m-> 1011\u001b[0m         lb, ub \u001b[38;5;241m=\u001b[39m \u001b[43mold_bound_to_new\u001b[49m\u001b[43m(\u001b[49m\u001b[43mbounds\u001b[49m\u001b[43m)\u001b[49m\n\u001b[0;32m   1012\u001b[0m         bounds \u001b[38;5;241m=\u001b[39m Bounds(lb, ub)\n\u001b[0;32m   1013\u001b[0m \u001b[38;5;28;01melif\u001b[39;00m meth \u001b[38;5;129;01min\u001b[39;00m (\u001b[38;5;124m'\u001b[39m\u001b[38;5;124ml-bfgs-b\u001b[39m\u001b[38;5;124m'\u001b[39m, \u001b[38;5;124m'\u001b[39m\u001b[38;5;124mtnc\u001b[39m\u001b[38;5;124m'\u001b[39m, \u001b[38;5;124m'\u001b[39m\u001b[38;5;124mslsqp\u001b[39m\u001b[38;5;124m'\u001b[39m, \u001b[38;5;124m'\u001b[39m\u001b[38;5;124mold\u001b[39m\u001b[38;5;124m'\u001b[39m):\n",
      "File \u001b[1;32m~\\AppData\\Roaming\\Python\\Python311\\site-packages\\scipy\\optimize\\_constraints.py:426\u001b[0m, in \u001b[0;36mold_bound_to_new\u001b[1;34m(bounds)\u001b[0m\n\u001b[0;32m    417\u001b[0m \u001b[38;5;28;01mdef\u001b[39;00m \u001b[38;5;21mold_bound_to_new\u001b[39m(bounds):\n\u001b[0;32m    418\u001b[0m \u001b[38;5;250m    \u001b[39m\u001b[38;5;124;03m\"\"\"Convert the old bounds representation to the new one.\u001b[39;00m\n\u001b[0;32m    419\u001b[0m \n\u001b[0;32m    420\u001b[0m \u001b[38;5;124;03m    The new representation is a tuple (lb, ub) and the old one is a list\u001b[39;00m\n\u001b[1;32m   (...)\u001b[0m\n\u001b[0;32m    424\u001b[0m \u001b[38;5;124;03m    -np.inf/np.inf.\u001b[39;00m\n\u001b[0;32m    425\u001b[0m \u001b[38;5;124;03m    \"\"\"\u001b[39;00m\n\u001b[1;32m--> 426\u001b[0m     lb, ub \u001b[38;5;241m=\u001b[39m \u001b[38;5;28;43mzip\u001b[39;49m\u001b[43m(\u001b[49m\u001b[38;5;241;43m*\u001b[39;49m\u001b[43mbounds\u001b[49m\u001b[43m)\u001b[49m\n\u001b[0;32m    428\u001b[0m     \u001b[38;5;66;03m# Convert occurrences of None to -inf or inf, and replace occurrences of\u001b[39;00m\n\u001b[0;32m    429\u001b[0m     \u001b[38;5;66;03m# any numpy array x with x.item(). Then wrap the results in numpy arrays.\u001b[39;00m\n\u001b[0;32m    430\u001b[0m     lb \u001b[38;5;241m=\u001b[39m np\u001b[38;5;241m.\u001b[39marray([\u001b[38;5;28mfloat\u001b[39m(_arr_to_scalar(x)) \u001b[38;5;28;01mif\u001b[39;00m x \u001b[38;5;129;01mis\u001b[39;00m \u001b[38;5;129;01mnot\u001b[39;00m \u001b[38;5;28;01mNone\u001b[39;00m \u001b[38;5;28;01melse\u001b[39;00m \u001b[38;5;241m-\u001b[39mnp\u001b[38;5;241m.\u001b[39minf\n\u001b[0;32m    431\u001b[0m                    \u001b[38;5;28;01mfor\u001b[39;00m x \u001b[38;5;129;01min\u001b[39;00m lb])\n",
      "\u001b[1;31mTypeError\u001b[0m: 'float' object is not iterable"
     ]
    }
   ],
   "source": [
    "unique_IDs = df.ID.unique()\n",
    "master_dictionary = {} # dictionary to store the optimized parameters for each patient \n",
    "\n",
    "# Find optimal parameters for each patient\n",
    "for id in unique_IDs:\n",
    "\n",
    "    days = df.days[df.ID == id].tolist()\n",
    "    data = df.Sum_tumor_volume[df.ID == id].tolist()\n",
    "    max_value = max(data[0], data[-1])\n",
    "\n",
    "    print(\"Working on patient:\", id, \" Number of data points:\", len(days))\n",
    "    bounds = [(1e-3, 4e-2), (1.1*max_value, 2*max_value), (1e-3, 5e-2),(0.95*data[0])] # r, km, kd, spop0, \n",
    "\n",
    "    #bounds = [(1e-3, 1e-1), (1e-3,5e-2), (1e-3,5e-2), (0.9*data[0], data[0]), (1e-3, 0.1*data[0])]\n",
    "    init_params = [2e-3, 2e-3, 1e-2, data[0]-1e3] # kg, km, kd, Spop_0, \n",
    "    opt_result = minimize(cost_func_rk45, init_params, args=(days, data), bounds = bounds, method=\"nelder-mead\")\n",
    "    master_dictionary[id] = opt_result.x.tolist() + [opt_result.fun] \n"
   ]
  },
  {
   "cell_type": "code",
   "execution_count": null,
   "metadata": {},
   "outputs": [],
   "source": [
    "df_exp = pd.DataFrame.from_dict(master_dictionary, orient='index', \n",
    "                                     columns=['r','km','kd','spop_0','mse'])\n",
    "df_exp"
   ]
  },
  {
   "cell_type": "code",
   "execution_count": null,
   "metadata": {},
   "outputs": [],
   "source": [
    "# setting up subplots   \n",
    "n = len(unique_IDs)\n",
    "ncols = 3\n",
    "nrows = np.ceil(n / ncols).astype(int)\n",
    "fig, axs = plt.subplots(nrows, ncols, figsize=(10, 15), constrained_layout=True)\n",
    "\n",
    "# fitting data \n",
    "for index, id in enumerate(unique_IDs, start=0):\n",
    "    #print(\"Patient:\", id, \" Optimal parameters: \", master_dictionary[id])\n",
    "    days = df.days[df.ID == id].tolist()\n",
    "    data = df.Sum_tumor_volume[df.ID == id].tolist()\n",
    "    tspan = np.linspace(0, days[-1], 300)\n",
    "\n",
    "    optimal_params = master_dictionary[id]\n",
    "    init_populations = [optimal_params[3], data[0]-optimal_params[3]]\n",
    "\n",
    "    pred_data = solve_ivp(system_ode_rk45, [0,days[-1]],\n",
    "                            init_populations, dense_output=True,\n",
    "                            args = tuple([optimal_params[:3]]))\n",
    "    sum_pops = np.sum(pred_data.sol(tspan), axis=0)\n",
    "\n",
    "#plotting \n",
    "    ax = axs.flatten()[(index)%len(unique_IDs)]  \n",
    "\n",
    "    ax.plot(days, data, 'kx', label='Measured Total') # plot data points\n",
    "    ax.plot(tspan, pred_data.sol(tspan)[0], 'b-', label='Sensitive')\n",
    "    ax.plot(tspan, pred_data.sol(tspan)[1], 'r-', label='Resistant') \n",
    "    ax.plot(tspan, sum_pops, 'k-', label='Total')\n",
    "    ax.set_xlabel('Time (days)')\n",
    "    ax.set_ylabel('Population mm^3')\n",
    "    ax.set_title(f'Patient: {id}') \n",
    "\n",
    "for i in range(index+1, nrows*ncols):\n",
    "    axs.flatten()[i].axis('off') #hide empty subplots\n",
    "\n",
    "legend_elements = [Line2D([0], [0], marker='x', color='k', label='Measured Total', linestyle='None'),\n",
    "                   Line2D([0], [0], color='b', label='Sensitive'),\n",
    "                   Line2D([0], [0], color='r', label='Resistant'),\n",
    "                   Line2D([0], [0], color='k', linestyle= '-' ,label='Total'),]\n",
    "          \n",
    "fig.legend(handles=legend_elements, loc='upper center', bbox_to_anchor=(0.5, -0.05), \n",
    "fancybox=True, shadow=True, ncol=7)\n",
    "fig.suptitle('Exponential model')  \n",
    "plt.show()"
   ]
  },
  {
   "cell_type": "markdown",
   "metadata": {},
   "source": [
    "##### MTD vs 1/2 MTD"
   ]
  },
  {
   "cell_type": "code",
   "execution_count": null,
   "metadata": {},
   "outputs": [],
   "source": [
    "master_dictionary_copy = copy.deepcopy(master_dictionary) # deep to create a copy that can be changed\n",
    "for key in master_dictionary_copy:\n",
    "    master_dictionary_copy[key][2] *= 0.5\n",
    "\n",
    "# setting up subplots   \n",
    "n = len(unique_IDs)\n",
    "ncols = 3\n",
    "nrows = np.ceil(n / ncols).astype(int)\n",
    "fig, axs = plt.subplots(nrows, ncols, figsize=(10, 15), constrained_layout=True)\n",
    "\n",
    "# fitting data \n",
    "for index, id in enumerate(unique_IDs, start=0):\n",
    "    #print(\"Patient:\", id, \" Optimal parameters: \", master_dictionary[id])\n",
    "    days = df.days[df.ID == id].tolist()\n",
    "    data = df.Sum_tumor_volume[df.ID == id].tolist()\n",
    "    tspan = np.linspace(0, days[-1], 300)\n",
    "\n",
    "    optimal_params = master_dictionary[id]\n",
    "    init_populations = [optimal_params[3], data[0]-optimal_params[3]]\n",
    "\n",
    "    pred_data = solve_ivp(system_ode_rk45, [0,days[-1]],\n",
    "                            init_populations, dense_output=True,\n",
    "                            args = tuple([optimal_params[:3]]))\n",
    "    sum_pops = np.sum(pred_data.sol(tspan), axis=0)\n",
    "\n",
    "# half dose\n",
    "    optimal_params_half = master_dictionary_copy[id]\n",
    "    init_populations_half = [optimal_params_half[3], data[0]-optimal_params_half[3]]\n",
    "\n",
    "    pred_data_half = solve_ivp(system_ode_rk45, [0,days[-1]],\n",
    "                            init_populations_half, dense_output=True,\n",
    "                            args = tuple([optimal_params_half[:3]]))\n",
    "    sum_pops_half = np.sum(pred_data_half.sol(tspan), axis=0)\n",
    "\n",
    "\n",
    "\n",
    "#plotting \n",
    "    ax = axs.flatten()[(index)%len(unique_IDs)]  \n",
    "\n",
    "    ax.plot(days, data, 'kx', label='Measured Total') # plot data points\n",
    "    ax.plot(tspan, pred_data.sol(tspan)[0], 'b-', label='Sensitive') # plot logistic model\n",
    "    ax.plot(tspan, pred_data.sol(tspan)[1], 'r-', label='Resistant') \n",
    "    ax.plot(tspan, sum_pops, 'k-', label='Total')\n",
    "\n",
    "     # plot with half medication\n",
    "    ax.plot(tspan, pred_data_half.sol(tspan)[0], 'b:', label='Sensitive 0.5*MTD') \n",
    "    ax.plot(tspan, pred_data_half.sol(tspan)[1], 'r:', label='Resistant 0.5*MTD') \n",
    "    ax.plot(tspan, sum_pops_half, 'k:', label='Total 0.5*MTD')\n",
    "    ax.set_xlabel('Time')\n",
    "    ax.set_ylabel('Population')\n",
    "    ax.set_title(f'Patient: {id}') \n",
    "\n",
    "for i in range(index+1, nrows*ncols):\n",
    "    axs.flatten()[i].axis('off') #hide empty subplots\n",
    "\n",
    "legend_elements = [Line2D([0], [0], marker='x', color='k', label='Measured Total', linestyle='None'),\n",
    "                   Line2D([0], [0], color='b', label='Sensitive'),\n",
    "                   Line2D([0], [0], color='r', label='Resistant'),\n",
    "                   Line2D([0], [0], color='k', linestyle= '-' ,label='Total MTD'),\n",
    "                    Line2D([0], [0], color='b', linestyle=':', label='Sensitive 1/2 MTD'),\n",
    "                   Line2D([0], [0], color='r', linestyle=':', label='Resistant 1/2 MTD'),\n",
    "                   Line2D([0], [0], color='k', linestyle= ':' ,label='Total 1/2 MTD'),\n",
    "                   ]\n",
    "          \n",
    "fig.legend(handles=legend_elements, loc='upper center', bbox_to_anchor=(0.5, -0.05), \n",
    "fancybox=True, shadow=True, ncol=7)\n",
    "fig.suptitle('Exponential model')  \n",
    "plt.show()"
   ]
  }
 ],
 "metadata": {
  "kernelspec": {
   "display_name": "base",
   "language": "python",
   "name": "python3"
  },
  "language_info": {
   "codemirror_mode": {
    "name": "ipython",
    "version": 3
   },
   "file_extension": ".py",
   "mimetype": "text/x-python",
   "name": "python",
   "nbconvert_exporter": "python",
   "pygments_lexer": "ipython3",
   "version": "3.11.5"
  }
 },
 "nbformat": 4,
 "nbformat_minor": 2
}
